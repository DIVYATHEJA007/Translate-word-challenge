{
 "cells": [
  {
   "cell_type": "code",
   "execution_count": null,
   "metadata": {},
   "outputs": [],
   "source": [
    "import pandas as pd\n",
    "import os, psutil\n",
    "import timeit\n",
    "setup_code = \"from math import factorial\""
   ]
  },
  {
   "cell_type": "code",
   "execution_count": null,
   "metadata": {},
   "outputs": [],
   "source": [
    "with open(\"C:/Users/91850/Desktop/TASK/t8.shakespeare.txt\") as file:\n",
    "    data=file.read()"
   ]
  },
  {
   "cell_type": "code",
   "execution_count": null,
   "metadata": {},
   "outputs": [],
   "source": [
    "data"
   ]
  },
  {
   "cell_type": "code",
   "execution_count": null,
   "metadata": {},
   "outputs": [],
   "source": [
    "words =pd.read_excel(\"C:/Users/91850/Downloads/translate.xlsx\")"
   ]
  },
  {
   "cell_type": "code",
   "execution_count": null,
   "metadata": {},
   "outputs": [],
   "source": [
    "words\n"
   ]
  },
  {
   "cell_type": "code",
   "execution_count": null,
   "metadata": {},
   "outputs": [],
   "source": [
    "words.describe()"
   ]
  },
  {
   "cell_type": "code",
   "execution_count": null,
   "metadata": {},
   "outputs": [],
   "source": [
    "pip install googletrans"
   ]
  },
  {
   "cell_type": "code",
   "execution_count": null,
   "metadata": {},
   "outputs": [],
   "source": [
    "import googletrans\n",
    "\n",
    "print(googletrans.LANGUAGES)"
   ]
  },
  {
   "cell_type": "code",
   "execution_count": null,
   "metadata": {},
   "outputs": [],
   "source": [
    "orignal_text = data\n",
    "n= 0\n",
    "while n < len(words):\n",
    "    txt1 = str(words['English'].iloc[n])\n",
    "    translated_word = words['French'].iloc[n]\n",
    "    orignal_text = orignal_text.replace(txt1, translated_word)\n",
    "    \n",
    "    #print(n)\n",
    "    n = n + 1"
   ]
  },
  {
   "cell_type": "code",
   "execution_count": null,
   "metadata": {},
   "outputs": [],
   "source": [
    "file = open(r'C:\\Users\\91850\\Desktop\\TASK\\translated text','w')\n",
    "file.write(orignal_text)\n",
    "file.close()"
   ]
  },
  {
   "cell_type": "code",
   "execution_count": null,
   "metadata": {},
   "outputs": [],
   "source": [
    "#total word count\n",
    "file = open(\"C:/Users/91850/Desktop/TASK/t8.shakespeare.txt\", \"r\")\n",
    "data1 = file.read()\n",
    "words = data.split()\n",
    "\n",
    "print('Number of words in text file :', len(words))"
   ]
  },
  {
   "cell_type": "code",
   "execution_count": null,
   "metadata": {},
   "outputs": [],
   "source": [
    "f1=open('t8.shakespeare.txt','r') #file 1\n",
    "f2=open('translated text','r') #file 2\n",
    "\n",
    "file_list = [f1, f2] # This would hold all your open files\n",
    "num_files = len(file_list)\n",
    "\n",
    "frequencies = {} # We'll just make one dictionary to hold the frequencies\n",
    "\n",
    "for i, f in enumerate(file_list): # Loop over the files, keeping an index i\n",
    "    for line in f: # Get the lines of that file\n",
    "        for word in line.split(): # Get the words of that file\n",
    "            if not word in frequencies:\n",
    "                frequencies[word] = [0 for _ in range(num_files)] # make a list of 0's for any word you haven't seen yet -- one 0 for each file\n",
    "\n",
    "            frequencies[word][i] += 1 # Increment the frequency count for that word and file\n",
    "\n",
    "print (frequencies)"
   ]
  },
  {
   "cell_type": "code",
   "execution_count": null,
   "metadata": {},
   "outputs": [],
   "source": [
    "newwords = open(\"C:/Users/91850/Desktop/TASK/newwords.txt\", \"r\")\n",
    "print(newwords.read())\n"
   ]
  },
  {
   "cell_type": "code",
   "execution_count": null,
   "metadata": {
    "scrolled": false
   },
   "outputs": [],
   "source": [
    "#counting the translated words and creating a csv file\n",
    "import csv\n",
    "keyword=open(\"C:/Users/91850/Desktop/TASK/newwords.txt\",\"r\")\n",
    "file=open(\"C:/Users/91850/Desktop/TASK/t8.shakespeare.txt\",\"r\")\n",
    "re=file.read()\n",
    "newfile=open(\"C:/Users/91850/Desktop/TASK/frequency.txt\",\"w\")\n",
    "re=re.lower()\n",
    "re=re.split()\n",
    "\n",
    "ke=keyword.read()\n",
    "ke=ke.split()\n",
    "d=[]\n",
    "d1={}\n",
    "for i in ke:\n",
    "    d1[i]=0\n",
    "for i in re:\n",
    "    if i in d1:\n",
    "        d1[i]+=1\n",
    "for i in ke:\n",
    "    if d1[i]!=0:\n",
    "        k=[]\n",
    "        k.append(i)\n",
    "        k.append(d1[i])\n",
    "        d.append(k)\n",
    "with open('C:/Users/91850/Desktop/TASK/frequency_words.csv','w') as wr:\n",
    "    write=csv.writer(wr)\n",
    "    write.writerows(d)        \n",
    "        "
   ]
  },
  {
   "cell_type": "code",
   "execution_count": null,
   "metadata": {},
   "outputs": [],
   "source": [
    "#frequency of each word\n",
    "import re\n",
    "import string\n",
    "frequency = {}\n",
    "document_text = open(\"C:/Users/91850/Desktop/TASK/t8.shakespeare.txt\", 'r')\n",
    "text_string = document_text.read().lower()\n",
    "match_pattern = re.findall(r'\\b[a-z]{3,15}\\b', text_string)\n",
    " \n",
    "for word in match_pattern:\n",
    "    count = frequency.get(word,0)\n",
    "    frequency[word] = count + 1\n",
    "     \n",
    "frequency_list = frequency.keys()\n",
    " \n",
    "for words in frequency_list:\n",
    "    print (words, frequency[words])"
   ]
  },
  {
   "cell_type": "code",
   "execution_count": null,
   "metadata": {},
   "outputs": [],
   "source": [
    "#execution time and memory utilized\n",
    "print(f\"Execution time is: {timeit.timeit(setup = setup_code, number = 10000000)}\")\n",
    "process = psutil.Process(os.getpid())\n",
    "print(f\"Used memory is bytes: {psutil.Process(os.getpid()).memory_info().rss / 1024 ** 2}\")"
   ]
  },
  {
   "cell_type": "code",
   "execution_count": null,
   "metadata": {},
   "outputs": [],
   "source": [
    "import sys\n",
    "sys.stdout=open(r\"C:\\Users\\91850\\Desktop\\TASK\\perfomance5.txt\",'w')\n",
    "print(f\"Execution time is: {timeit.timeit(setup = setup_code, number = 10000000)}\")\n",
    "process = psutil.Process(os.getpid())\n",
    "print(f\"Used memory is bytes: {psutil.Process(os.getpid()).memory_info().rss / 1024 ** 2}\")\n",
    "sys.stdout.close()"
   ]
  },
  {
   "cell_type": "code",
   "execution_count": null,
   "metadata": {},
   "outputs": [],
   "source": [
    "\n"
   ]
  },
  {
   "cell_type": "code",
   "execution_count": null,
   "metadata": {},
   "outputs": [],
   "source": []
  },
  {
   "cell_type": "code",
   "execution_count": null,
   "metadata": {},
   "outputs": [],
   "source": []
  },
  {
   "cell_type": "code",
   "execution_count": null,
   "metadata": {},
   "outputs": [],
   "source": []
  },
  {
   "cell_type": "code",
   "execution_count": null,
   "metadata": {},
   "outputs": [],
   "source": []
  },
  {
   "cell_type": "code",
   "execution_count": null,
   "metadata": {},
   "outputs": [],
   "source": []
  },
  {
   "cell_type": "code",
   "execution_count": null,
   "metadata": {},
   "outputs": [],
   "source": []
  },
  {
   "cell_type": "code",
   "execution_count": null,
   "metadata": {},
   "outputs": [],
   "source": []
  },
  {
   "cell_type": "code",
   "execution_count": null,
   "metadata": {},
   "outputs": [],
   "source": []
  },
  {
   "cell_type": "code",
   "execution_count": null,
   "metadata": {},
   "outputs": [],
   "source": []
  }
 ],
 "metadata": {
  "kernelspec": {
   "display_name": "Python 3",
   "language": "python",
   "name": "python3"
  },
  "language_info": {
   "codemirror_mode": {
    "name": "ipython",
    "version": 3
   },
   "file_extension": ".py",
   "mimetype": "text/x-python",
   "name": "python",
   "nbconvert_exporter": "python",
   "pygments_lexer": "ipython3",
   "version": "3.8.3"
  }
 },
 "nbformat": 4,
 "nbformat_minor": 4
}
